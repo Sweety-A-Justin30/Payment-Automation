{
 "cells": [
  {
   "cell_type": "code",
   "execution_count": 1,
   "id": "8cb48251",
   "metadata": {},
   "outputs": [],
   "source": [
    "import pandas as pd"
   ]
  },
  {
   "cell_type": "code",
   "execution_count": 2,
   "id": "e2f8860c",
   "metadata": {},
   "outputs": [
    {
     "data": {
      "text/html": [
       "<div>\n",
       "<style scoped>\n",
       "    .dataframe tbody tr th:only-of-type {\n",
       "        vertical-align: middle;\n",
       "    }\n",
       "\n",
       "    .dataframe tbody tr th {\n",
       "        vertical-align: top;\n",
       "    }\n",
       "\n",
       "    .dataframe thead th {\n",
       "        text-align: right;\n",
       "    }\n",
       "</style>\n",
       "<table border=\"1\" class=\"dataframe\">\n",
       "  <thead>\n",
       "    <tr style=\"text-align: right;\">\n",
       "      <th></th>\n",
       "      <th>Transaction ID</th>\n",
       "      <th>Transaction Date</th>\n",
       "      <th>Customer ID</th>\n",
       "      <th>Payment Method</th>\n",
       "      <th>Transaction Amount</th>\n",
       "      <th>Transaction Status</th>\n",
       "      <th>Merchant ID</th>\n",
       "      <th>Region</th>\n",
       "      <th>Currency</th>\n",
       "      <th>Transaction Hour</th>\n",
       "    </tr>\n",
       "  </thead>\n",
       "  <tbody>\n",
       "    <tr>\n",
       "      <th>0</th>\n",
       "      <td>TX1000</td>\n",
       "      <td>2024-10-30 06:02:00</td>\n",
       "      <td>CUST189</td>\n",
       "      <td>PayPal</td>\n",
       "      <td>451</td>\n",
       "      <td>Successful</td>\n",
       "      <td>M1049</td>\n",
       "      <td>Asia</td>\n",
       "      <td>USD</td>\n",
       "      <td>6</td>\n",
       "    </tr>\n",
       "    <tr>\n",
       "      <th>1</th>\n",
       "      <td>TX1001</td>\n",
       "      <td>2024-11-18 10:10:00</td>\n",
       "      <td>CUST108</td>\n",
       "      <td>Credit Card</td>\n",
       "      <td>461</td>\n",
       "      <td>Successful</td>\n",
       "      <td>M1006</td>\n",
       "      <td>Europe</td>\n",
       "      <td>JPY</td>\n",
       "      <td>10</td>\n",
       "    </tr>\n",
       "    <tr>\n",
       "      <th>2</th>\n",
       "      <td>TX1002</td>\n",
       "      <td>2024-06-11 09:59:00</td>\n",
       "      <td>CUST165</td>\n",
       "      <td>PayPal</td>\n",
       "      <td>427</td>\n",
       "      <td>Pending</td>\n",
       "      <td>M1019</td>\n",
       "      <td>North America</td>\n",
       "      <td>EUR</td>\n",
       "      <td>9</td>\n",
       "    </tr>\n",
       "    <tr>\n",
       "      <th>3</th>\n",
       "      <td>TX1003</td>\n",
       "      <td>2024-10-27 07:39:00</td>\n",
       "      <td>CUST140</td>\n",
       "      <td>PayPal</td>\n",
       "      <td>309</td>\n",
       "      <td>Successful</td>\n",
       "      <td>M1027</td>\n",
       "      <td>Europe</td>\n",
       "      <td>EUR</td>\n",
       "      <td>7</td>\n",
       "    </tr>\n",
       "    <tr>\n",
       "      <th>4</th>\n",
       "      <td>TX1004</td>\n",
       "      <td>2024-07-29 20:30:00</td>\n",
       "      <td>CUST173</td>\n",
       "      <td>Credit Card</td>\n",
       "      <td>380</td>\n",
       "      <td>Successful</td>\n",
       "      <td>M1025</td>\n",
       "      <td>North America</td>\n",
       "      <td>USD</td>\n",
       "      <td>20</td>\n",
       "    </tr>\n",
       "    <tr>\n",
       "      <th>5</th>\n",
       "      <td>TX1005</td>\n",
       "      <td>2024-05-27 20:43:00</td>\n",
       "      <td>CUST105</td>\n",
       "      <td>Debit Card</td>\n",
       "      <td>350</td>\n",
       "      <td>Successful</td>\n",
       "      <td>M1039</td>\n",
       "      <td>North America</td>\n",
       "      <td>EUR</td>\n",
       "      <td>20</td>\n",
       "    </tr>\n",
       "    <tr>\n",
       "      <th>6</th>\n",
       "      <td>TX1006</td>\n",
       "      <td>2024-12-26 20:44:00</td>\n",
       "      <td>CUST140</td>\n",
       "      <td>Credit Card</td>\n",
       "      <td>447</td>\n",
       "      <td>Successful</td>\n",
       "      <td>M1025</td>\n",
       "      <td>Europe</td>\n",
       "      <td>USD</td>\n",
       "      <td>20</td>\n",
       "    </tr>\n",
       "    <tr>\n",
       "      <th>7</th>\n",
       "      <td>TX1007</td>\n",
       "      <td>2024-10-19 16:21:00</td>\n",
       "      <td>CUST152</td>\n",
       "      <td>Debit Card</td>\n",
       "      <td>475</td>\n",
       "      <td>Successful</td>\n",
       "      <td>M1014</td>\n",
       "      <td>Asia</td>\n",
       "      <td>EUR</td>\n",
       "      <td>16</td>\n",
       "    </tr>\n",
       "    <tr>\n",
       "      <th>8</th>\n",
       "      <td>TX1008</td>\n",
       "      <td>2024-11-05 13:05:00</td>\n",
       "      <td>CUST187</td>\n",
       "      <td>Bank Transfer</td>\n",
       "      <td>413</td>\n",
       "      <td>Successful</td>\n",
       "      <td>M1026</td>\n",
       "      <td>North America</td>\n",
       "      <td>USD</td>\n",
       "      <td>13</td>\n",
       "    </tr>\n",
       "    <tr>\n",
       "      <th>9</th>\n",
       "      <td>TX1009</td>\n",
       "      <td>2024-12-02 01:54:00</td>\n",
       "      <td>CUST143</td>\n",
       "      <td>Bank Transfer</td>\n",
       "      <td>514</td>\n",
       "      <td>Failed</td>\n",
       "      <td>M1004</td>\n",
       "      <td>Europe</td>\n",
       "      <td>EUR</td>\n",
       "      <td>1</td>\n",
       "    </tr>\n",
       "  </tbody>\n",
       "</table>\n",
       "</div>"
      ],
      "text/plain": [
       "  Transaction ID     Transaction Date Customer ID Payment Method  \\\n",
       "0         TX1000  2024-10-30 06:02:00     CUST189         PayPal   \n",
       "1         TX1001  2024-11-18 10:10:00     CUST108    Credit Card   \n",
       "2         TX1002  2024-06-11 09:59:00     CUST165         PayPal   \n",
       "3         TX1003  2024-10-27 07:39:00     CUST140         PayPal   \n",
       "4         TX1004  2024-07-29 20:30:00     CUST173    Credit Card   \n",
       "5         TX1005  2024-05-27 20:43:00     CUST105     Debit Card   \n",
       "6         TX1006  2024-12-26 20:44:00     CUST140    Credit Card   \n",
       "7         TX1007  2024-10-19 16:21:00     CUST152     Debit Card   \n",
       "8         TX1008  2024-11-05 13:05:00     CUST187  Bank Transfer   \n",
       "9         TX1009  2024-12-02 01:54:00     CUST143  Bank Transfer   \n",
       "\n",
       "   Transaction Amount Transaction Status Merchant ID         Region Currency  \\\n",
       "0                 451         Successful       M1049           Asia      USD   \n",
       "1                 461         Successful       M1006         Europe      JPY   \n",
       "2                 427            Pending       M1019  North America      EUR   \n",
       "3                 309         Successful       M1027         Europe      EUR   \n",
       "4                 380         Successful       M1025  North America      USD   \n",
       "5                 350         Successful       M1039  North America      EUR   \n",
       "6                 447         Successful       M1025         Europe      USD   \n",
       "7                 475         Successful       M1014           Asia      EUR   \n",
       "8                 413         Successful       M1026  North America      USD   \n",
       "9                 514             Failed       M1004         Europe      EUR   \n",
       "\n",
       "   Transaction Hour  \n",
       "0                 6  \n",
       "1                10  \n",
       "2                 9  \n",
       "3                 7  \n",
       "4                20  \n",
       "5                20  \n",
       "6                20  \n",
       "7                16  \n",
       "8                13  \n",
       "9                 1  "
      ]
     },
     "execution_count": 2,
     "metadata": {},
     "output_type": "execute_result"
    }
   ],
   "source": [
    "df=pd.read_csv('payment_transactions.csv')\n",
    "df.head(10)"
   ]
  },
  {
   "cell_type": "markdown",
   "id": "da406bdd",
   "metadata": {},
   "source": [
    "##### Check for missing values"
   ]
  },
  {
   "cell_type": "code",
   "execution_count": 3,
   "id": "f6c50dc1",
   "metadata": {},
   "outputs": [
    {
     "name": "stdout",
     "output_type": "stream",
     "text": [
      "\n",
      "Missing Values:\n",
      " Transaction ID        0\n",
      "Transaction Date      0\n",
      "Customer ID           0\n",
      "Payment Method        0\n",
      "Transaction Amount    0\n",
      "Transaction Status    0\n",
      "Merchant ID           0\n",
      "Region                0\n",
      "Currency              0\n",
      "Transaction Hour      0\n",
      "dtype: int64\n"
     ]
    }
   ],
   "source": [
    "print(\"\\nMissing Values:\\n\", df.isnull().sum())"
   ]
  },
  {
   "cell_type": "markdown",
   "id": "b2d21297",
   "metadata": {},
   "source": [
    "##### Check data types"
   ]
  },
  {
   "cell_type": "code",
   "execution_count": 4,
   "id": "4ee343b8",
   "metadata": {},
   "outputs": [
    {
     "name": "stdout",
     "output_type": "stream",
     "text": [
      "\n",
      "Data Types:\n",
      " Transaction ID        object\n",
      "Transaction Date      object\n",
      "Customer ID           object\n",
      "Payment Method        object\n",
      "Transaction Amount     int64\n",
      "Transaction Status    object\n",
      "Merchant ID           object\n",
      "Region                object\n",
      "Currency              object\n",
      "Transaction Hour       int64\n",
      "dtype: object\n"
     ]
    }
   ],
   "source": [
    "print(\"\\nData Types:\\n\", df.dtypes)"
   ]
  },
  {
   "cell_type": "markdown",
   "id": "2f9638d5",
   "metadata": {},
   "source": [
    "##### Transaction Date is in datetime format"
   ]
  },
  {
   "cell_type": "code",
   "execution_count": 31,
   "id": "cd8c387f",
   "metadata": {},
   "outputs": [],
   "source": [
    "df['Transaction Date'] = pd.to_datetime(df['Transaction Date'])\n"
   ]
  },
  {
   "cell_type": "code",
   "execution_count": 6,
   "id": "2f2ab2c6",
   "metadata": {},
   "outputs": [
    {
     "name": "stdout",
     "output_type": "stream",
     "text": [
      "\n",
      "Summary Statistics:\n",
      "                     Transaction Date  Transaction Amount  Transaction Hour\n",
      "count                            100          100.000000        100.000000\n",
      "mean   2024-07-13 06:47:07.199999488          421.200000         11.090000\n",
      "min              2024-01-05 22:03:00          306.000000          0.000000\n",
      "25%              2024-04-21 01:24:00          349.000000          6.000000\n",
      "50%              2024-07-12 18:15:30          416.000000         12.000000\n",
      "75%              2024-10-06 05:59:00          489.000000         16.000000\n",
      "max              2024-12-27 02:01:00          548.000000         23.000000\n",
      "std                              NaN           77.121968          6.287867\n"
     ]
    }
   ],
   "source": [
    "print(\"\\nSummary Statistics:\\n\", df.describe())"
   ]
  },
  {
   "cell_type": "code",
   "execution_count": 7,
   "id": "14c942e0",
   "metadata": {},
   "outputs": [
    {
     "data": {
      "text/plain": [
       "0    2024-10-30 06:02:00\n",
       "1    2024-11-18 10:10:00\n",
       "2    2024-06-11 09:59:00\n",
       "3    2024-10-27 07:39:00\n",
       "4    2024-07-29 20:30:00\n",
       "             ...        \n",
       "95   2024-04-08 12:39:00\n",
       "96   2024-09-03 20:47:00\n",
       "97   2024-09-29 07:01:00\n",
       "98   2024-06-25 14:23:00\n",
       "99   2024-11-25 16:21:00\n",
       "Name: Transaction Date, Length: 100, dtype: datetime64[ns]"
      ]
     },
     "execution_count": 7,
     "metadata": {},
     "output_type": "execute_result"
    }
   ],
   "source": [
    "df['Transaction Date']"
   ]
  },
  {
   "cell_type": "markdown",
   "id": "d91426cf",
   "metadata": {},
   "source": [
    "##### derived columns"
   ]
  },
  {
   "cell_type": "code",
   "execution_count": 32,
   "id": "3e71b358",
   "metadata": {},
   "outputs": [],
   "source": [
    "df['Transaction Hour'] = df['Transaction Date'].dt.hour  # Hour of the transaction\n",
    "df['Transaction Day'] = df['Transaction Date'].dt.day    # Day of the transaction\n",
    "df['Transaction Month'] = df['Transaction Date'].dt.month  # Month of the transaction\n",
    "df['Transaction Year'] = df['Transaction Date'].dt.year    # Year of the transaction"
   ]
  },
  {
   "cell_type": "code",
   "execution_count": 33,
   "id": "85699c9b",
   "metadata": {},
   "outputs": [],
   "source": [
    "df.to_csv('payment_transactions.csv', index=False)"
   ]
  },
  {
   "cell_type": "code",
   "execution_count": 34,
   "id": "6b365720",
   "metadata": {},
   "outputs": [
    {
     "data": {
      "text/html": [
       "<div>\n",
       "<style scoped>\n",
       "    .dataframe tbody tr th:only-of-type {\n",
       "        vertical-align: middle;\n",
       "    }\n",
       "\n",
       "    .dataframe tbody tr th {\n",
       "        vertical-align: top;\n",
       "    }\n",
       "\n",
       "    .dataframe thead th {\n",
       "        text-align: right;\n",
       "    }\n",
       "</style>\n",
       "<table border=\"1\" class=\"dataframe\">\n",
       "  <thead>\n",
       "    <tr style=\"text-align: right;\">\n",
       "      <th></th>\n",
       "      <th>Transaction ID</th>\n",
       "      <th>Transaction Date</th>\n",
       "      <th>Customer ID</th>\n",
       "      <th>Payment Method</th>\n",
       "      <th>Transaction Amount</th>\n",
       "      <th>Transaction Status</th>\n",
       "      <th>Merchant ID</th>\n",
       "      <th>Region</th>\n",
       "      <th>Currency</th>\n",
       "      <th>Transaction Hour</th>\n",
       "      <th>Transaction Day</th>\n",
       "      <th>Transaction Month</th>\n",
       "      <th>Transaction Year</th>\n",
       "    </tr>\n",
       "  </thead>\n",
       "  <tbody>\n",
       "    <tr>\n",
       "      <th>0</th>\n",
       "      <td>TX1000</td>\n",
       "      <td>2024-10-30 06:02:00</td>\n",
       "      <td>CUST189</td>\n",
       "      <td>PayPal</td>\n",
       "      <td>451</td>\n",
       "      <td>Successful</td>\n",
       "      <td>M1049</td>\n",
       "      <td>Asia</td>\n",
       "      <td>USD</td>\n",
       "      <td>6</td>\n",
       "      <td>30</td>\n",
       "      <td>10</td>\n",
       "      <td>2024</td>\n",
       "    </tr>\n",
       "    <tr>\n",
       "      <th>1</th>\n",
       "      <td>TX1001</td>\n",
       "      <td>2024-11-18 10:10:00</td>\n",
       "      <td>CUST108</td>\n",
       "      <td>Credit Card</td>\n",
       "      <td>461</td>\n",
       "      <td>Successful</td>\n",
       "      <td>M1006</td>\n",
       "      <td>Europe</td>\n",
       "      <td>JPY</td>\n",
       "      <td>10</td>\n",
       "      <td>18</td>\n",
       "      <td>11</td>\n",
       "      <td>2024</td>\n",
       "    </tr>\n",
       "    <tr>\n",
       "      <th>2</th>\n",
       "      <td>TX1002</td>\n",
       "      <td>2024-06-11 09:59:00</td>\n",
       "      <td>CUST165</td>\n",
       "      <td>PayPal</td>\n",
       "      <td>427</td>\n",
       "      <td>Pending</td>\n",
       "      <td>M1019</td>\n",
       "      <td>North America</td>\n",
       "      <td>EUR</td>\n",
       "      <td>9</td>\n",
       "      <td>11</td>\n",
       "      <td>6</td>\n",
       "      <td>2024</td>\n",
       "    </tr>\n",
       "    <tr>\n",
       "      <th>3</th>\n",
       "      <td>TX1003</td>\n",
       "      <td>2024-10-27 07:39:00</td>\n",
       "      <td>CUST140</td>\n",
       "      <td>PayPal</td>\n",
       "      <td>309</td>\n",
       "      <td>Successful</td>\n",
       "      <td>M1027</td>\n",
       "      <td>Europe</td>\n",
       "      <td>EUR</td>\n",
       "      <td>7</td>\n",
       "      <td>27</td>\n",
       "      <td>10</td>\n",
       "      <td>2024</td>\n",
       "    </tr>\n",
       "    <tr>\n",
       "      <th>4</th>\n",
       "      <td>TX1004</td>\n",
       "      <td>2024-07-29 20:30:00</td>\n",
       "      <td>CUST173</td>\n",
       "      <td>Credit Card</td>\n",
       "      <td>380</td>\n",
       "      <td>Successful</td>\n",
       "      <td>M1025</td>\n",
       "      <td>North America</td>\n",
       "      <td>USD</td>\n",
       "      <td>20</td>\n",
       "      <td>29</td>\n",
       "      <td>7</td>\n",
       "      <td>2024</td>\n",
       "    </tr>\n",
       "    <tr>\n",
       "      <th>...</th>\n",
       "      <td>...</td>\n",
       "      <td>...</td>\n",
       "      <td>...</td>\n",
       "      <td>...</td>\n",
       "      <td>...</td>\n",
       "      <td>...</td>\n",
       "      <td>...</td>\n",
       "      <td>...</td>\n",
       "      <td>...</td>\n",
       "      <td>...</td>\n",
       "      <td>...</td>\n",
       "      <td>...</td>\n",
       "      <td>...</td>\n",
       "    </tr>\n",
       "    <tr>\n",
       "      <th>95</th>\n",
       "      <td>TX1095</td>\n",
       "      <td>2024-04-08 12:39:00</td>\n",
       "      <td>CUST110</td>\n",
       "      <td>Credit Card</td>\n",
       "      <td>533</td>\n",
       "      <td>Successful</td>\n",
       "      <td>M1050</td>\n",
       "      <td>Asia</td>\n",
       "      <td>JPY</td>\n",
       "      <td>12</td>\n",
       "      <td>8</td>\n",
       "      <td>4</td>\n",
       "      <td>2024</td>\n",
       "    </tr>\n",
       "    <tr>\n",
       "      <th>96</th>\n",
       "      <td>TX1096</td>\n",
       "      <td>2024-09-03 20:47:00</td>\n",
       "      <td>CUST171</td>\n",
       "      <td>Debit Card</td>\n",
       "      <td>480</td>\n",
       "      <td>Successful</td>\n",
       "      <td>M1008</td>\n",
       "      <td>Asia</td>\n",
       "      <td>EUR</td>\n",
       "      <td>20</td>\n",
       "      <td>3</td>\n",
       "      <td>9</td>\n",
       "      <td>2024</td>\n",
       "    </tr>\n",
       "    <tr>\n",
       "      <th>97</th>\n",
       "      <td>TX1097</td>\n",
       "      <td>2024-09-29 07:01:00</td>\n",
       "      <td>CUST199</td>\n",
       "      <td>PayPal</td>\n",
       "      <td>533</td>\n",
       "      <td>Successful</td>\n",
       "      <td>M1049</td>\n",
       "      <td>Asia</td>\n",
       "      <td>USD</td>\n",
       "      <td>7</td>\n",
       "      <td>29</td>\n",
       "      <td>9</td>\n",
       "      <td>2024</td>\n",
       "    </tr>\n",
       "    <tr>\n",
       "      <th>98</th>\n",
       "      <td>TX1098</td>\n",
       "      <td>2024-06-25 14:23:00</td>\n",
       "      <td>CUST181</td>\n",
       "      <td>Debit Card</td>\n",
       "      <td>407</td>\n",
       "      <td>Successful</td>\n",
       "      <td>M1018</td>\n",
       "      <td>Europe</td>\n",
       "      <td>JPY</td>\n",
       "      <td>14</td>\n",
       "      <td>25</td>\n",
       "      <td>6</td>\n",
       "      <td>2024</td>\n",
       "    </tr>\n",
       "    <tr>\n",
       "      <th>99</th>\n",
       "      <td>TX1099</td>\n",
       "      <td>2024-11-25 16:21:00</td>\n",
       "      <td>CUST123</td>\n",
       "      <td>PayPal</td>\n",
       "      <td>488</td>\n",
       "      <td>Successful</td>\n",
       "      <td>M1030</td>\n",
       "      <td>Europe</td>\n",
       "      <td>USD</td>\n",
       "      <td>16</td>\n",
       "      <td>25</td>\n",
       "      <td>11</td>\n",
       "      <td>2024</td>\n",
       "    </tr>\n",
       "  </tbody>\n",
       "</table>\n",
       "<p>100 rows × 13 columns</p>\n",
       "</div>"
      ],
      "text/plain": [
       "   Transaction ID    Transaction Date Customer ID Payment Method  \\\n",
       "0          TX1000 2024-10-30 06:02:00     CUST189         PayPal   \n",
       "1          TX1001 2024-11-18 10:10:00     CUST108    Credit Card   \n",
       "2          TX1002 2024-06-11 09:59:00     CUST165         PayPal   \n",
       "3          TX1003 2024-10-27 07:39:00     CUST140         PayPal   \n",
       "4          TX1004 2024-07-29 20:30:00     CUST173    Credit Card   \n",
       "..            ...                 ...         ...            ...   \n",
       "95         TX1095 2024-04-08 12:39:00     CUST110    Credit Card   \n",
       "96         TX1096 2024-09-03 20:47:00     CUST171     Debit Card   \n",
       "97         TX1097 2024-09-29 07:01:00     CUST199         PayPal   \n",
       "98         TX1098 2024-06-25 14:23:00     CUST181     Debit Card   \n",
       "99         TX1099 2024-11-25 16:21:00     CUST123         PayPal   \n",
       "\n",
       "    Transaction Amount Transaction Status Merchant ID         Region Currency  \\\n",
       "0                  451         Successful       M1049           Asia      USD   \n",
       "1                  461         Successful       M1006         Europe      JPY   \n",
       "2                  427            Pending       M1019  North America      EUR   \n",
       "3                  309         Successful       M1027         Europe      EUR   \n",
       "4                  380         Successful       M1025  North America      USD   \n",
       "..                 ...                ...         ...            ...      ...   \n",
       "95                 533         Successful       M1050           Asia      JPY   \n",
       "96                 480         Successful       M1008           Asia      EUR   \n",
       "97                 533         Successful       M1049           Asia      USD   \n",
       "98                 407         Successful       M1018         Europe      JPY   \n",
       "99                 488         Successful       M1030         Europe      USD   \n",
       "\n",
       "    Transaction Hour  Transaction Day  Transaction Month  Transaction Year  \n",
       "0                  6               30                 10              2024  \n",
       "1                 10               18                 11              2024  \n",
       "2                  9               11                  6              2024  \n",
       "3                  7               27                 10              2024  \n",
       "4                 20               29                  7              2024  \n",
       "..               ...              ...                ...               ...  \n",
       "95                12                8                  4              2024  \n",
       "96                20                3                  9              2024  \n",
       "97                 7               29                  9              2024  \n",
       "98                14               25                  6              2024  \n",
       "99                16               25                 11              2024  \n",
       "\n",
       "[100 rows x 13 columns]"
      ]
     },
     "execution_count": 34,
     "metadata": {},
     "output_type": "execute_result"
    }
   ],
   "source": [
    "df"
   ]
  },
  {
   "cell_type": "markdown",
   "id": "bf2e8065",
   "metadata": {},
   "source": [
    "##### Calculate KPIs"
   ]
  },
  {
   "cell_type": "code",
   "execution_count": 18,
   "id": "22b6ae58",
   "metadata": {},
   "outputs": [
    {
     "name": "stdout",
     "output_type": "stream",
     "text": [
      "{'Total Transaction Volume': 42120, 'Average Transaction Value': 421.2, 'Payment Success Rate (%)': 76.0, 'Transaction Failure Rate (%)': 12.0}\n"
     ]
    }
   ],
   "source": [
    "kpis = {}\n",
    "\n",
    "# Total Transaction Volume\n",
    "kpis['Total Transaction Volume'] = df['Transaction Amount'].sum()\n",
    "\n",
    "# Average Transaction Value (ATV)\n",
    "kpis['Average Transaction Value'] = df['Transaction Amount'].mean()\n",
    "\n",
    "# Payment Success Rate\n",
    "successful_transactions = df[df['Transaction Status'] == 'Successful']\n",
    "kpis['Payment Success Rate (%)'] = (len(successful_transactions) / len(df)) * 100\n",
    "\n",
    "# Revenue by Payment Method\n",
    "revenue_by_payment_method = df.groupby('Payment Method')['Transaction Amount'].sum()\n",
    "\n",
    "# Transaction Failure Rate\n",
    "failed_transactions = df[df['Transaction Status'] == 'Failed']\n",
    "kpis['Transaction Failure Rate (%)'] = (len(failed_transactions) / len(df)) * 100\n",
    "\n",
    "# Peak Transaction Hours\n",
    "peak_hours = df.groupby('Transaction Hour')['Transaction ID'].count().sort_values(ascending=False).head(3)\n",
    "\n",
    "# Display KPIs\n",
    "print(kpis)"
   ]
  },
  {
   "cell_type": "code",
   "execution_count": 19,
   "id": "29f1e1a3",
   "metadata": {},
   "outputs": [
    {
     "name": "stdout",
     "output_type": "stream",
     "text": [
      "Payment Method\n",
      "Bank Transfer     8700\n",
      "Credit Card      10867\n",
      "Debit Card       11818\n",
      "PayPal           10735\n",
      "Name: Transaction Amount, dtype: int64\n"
     ]
    }
   ],
   "source": [
    "print(revenue_by_payment_method)"
   ]
  },
  {
   "cell_type": "code",
   "execution_count": 20,
   "id": "7f176164",
   "metadata": {},
   "outputs": [
    {
     "name": "stdout",
     "output_type": "stream",
     "text": [
      "Transaction Hour\n",
      "12    8\n",
      "8     8\n",
      "16    7\n",
      "Name: Transaction ID, dtype: int64\n"
     ]
    }
   ],
   "source": [
    "print(peak_hours)"
   ]
  },
  {
   "cell_type": "code",
   "execution_count": 23,
   "id": "e15b9c44",
   "metadata": {},
   "outputs": [
    {
     "name": "stdout",
     "output_type": "stream",
     "text": [
      "Collecting mysql-connector-python\n",
      "  Downloading mysql_connector_python-9.1.0-cp311-cp311-macosx_13_0_arm64.whl.metadata (6.0 kB)\n",
      "Downloading mysql_connector_python-9.1.0-cp311-cp311-macosx_13_0_arm64.whl (15.1 MB)\n",
      "\u001b[2K   \u001b[90m━━━━━━━━━━━━━━━━━━━━━━━━━━━━━━━━━━━━━━━━\u001b[0m \u001b[32m15.1/15.1 MB\u001b[0m \u001b[31m5.4 MB/s\u001b[0m eta \u001b[36m0:00:00\u001b[0ma \u001b[36m0:00:01\u001b[0m\n",
      "\u001b[?25hInstalling collected packages: mysql-connector-python\n",
      "Successfully installed mysql-connector-python-9.1.0\n",
      "\n",
      "\u001b[1m[\u001b[0m\u001b[34;49mnotice\u001b[0m\u001b[1;39;49m]\u001b[0m\u001b[39;49m A new release of pip is available: \u001b[0m\u001b[31;49m24.2\u001b[0m\u001b[39;49m -> \u001b[0m\u001b[32;49m24.3.1\u001b[0m\n",
      "\u001b[1m[\u001b[0m\u001b[34;49mnotice\u001b[0m\u001b[1;39;49m]\u001b[0m\u001b[39;49m To update, run: \u001b[0m\u001b[32;49mpip install --upgrade pip\u001b[0m\n"
     ]
    }
   ],
   "source": [
    "!pip install mysql-connector-python\n"
   ]
  },
  {
   "cell_type": "code",
   "execution_count": 24,
   "id": "de063e8f",
   "metadata": {},
   "outputs": [],
   "source": [
    "import mysql.connector\n",
    "\n",
    "# Establish connection\n",
    "conn = mysql.connector.connect(\n",
    "    host='localhost',\n",
    "    user='root',\n",
    "    password='sweety30',\n",
    "    database='payment_analytics'\n",
    ")\n",
    "cursor = conn.cursor()\n"
   ]
  },
  {
   "cell_type": "code",
   "execution_count": 35,
   "id": "2a9c0771",
   "metadata": {},
   "outputs": [
    {
     "name": "stdout",
     "output_type": "stream",
     "text": [
      "Dataset inserted successfully!\n"
     ]
    }
   ],
   "source": [
    "import pandas as pd\n",
    "\n",
    "# Load the CSV file\n",
    "df = pd.read_csv('payment_transactions.csv')\n",
    "\n",
    "# Insert data into the transactions table\n",
    "for _, row in df.iterrows():\n",
    "    cursor.execute(\"\"\"\n",
    "        INSERT INTO transactions (transaction_id, transaction_date, customer_id, payment_method, transaction_amount, transaction_status, merchant_id, region, currency, transaction_hour, transaction_day, transaction_month, transaction_year)\n",
    "        VALUES (%s, %s, %s, %s, %s, %s, %s, %s, %s, %s, %s, %s, %s)\n",
    "    \"\"\", tuple(row))\n",
    "\n",
    "conn.commit()\n",
    "print(\"Dataset inserted successfully!\")\n"
   ]
  },
  {
   "cell_type": "code",
   "execution_count": 36,
   "id": "57c64f05",
   "metadata": {},
   "outputs": [
    {
     "name": "stdout",
     "output_type": "stream",
     "text": [
      "KPIs inserted successfully!\n"
     ]
    }
   ],
   "source": [
    "# Example KPIs dictionary\n",
    "kpis = {\n",
    "    \"Total Transaction Volume\": 44948.00,\n",
    "    \"Average Transaction Value\": 449.48,\n",
    "    \"Payment Success Rate (%)\": 79.0,\n",
    "    \"Transaction Failure Rate (%)\": 7.0\n",
    "}\n",
    "\n",
    "# Insert KPIs into the kpis table\n",
    "for kpi_name, kpi_value in kpis.items():\n",
    "    cursor.execute(\"\"\"\n",
    "        INSERT INTO kpis (kpi_name, kpi_value)\n",
    "        VALUES (%s, %s)\n",
    "    \"\"\", (kpi_name, kpi_value))\n",
    "\n",
    "conn.commit()\n",
    "print(\"KPIs inserted successfully!\")\n"
   ]
  },
  {
   "cell_type": "code",
   "execution_count": 37,
   "id": "c20ce434",
   "metadata": {},
   "outputs": [],
   "source": [
    "# Close the connection\n",
    "cursor.close()\n",
    "conn.close()\n"
   ]
  }
 ],
 "metadata": {
  "kernelspec": {
   "display_name": "Python 3 (ipykernel)",
   "language": "python",
   "name": "python3"
  },
  "language_info": {
   "codemirror_mode": {
    "name": "ipython",
    "version": 3
   },
   "file_extension": ".py",
   "mimetype": "text/x-python",
   "name": "python",
   "nbconvert_exporter": "python",
   "pygments_lexer": "ipython3",
   "version": "3.11.7"
  }
 },
 "nbformat": 4,
 "nbformat_minor": 5
}
